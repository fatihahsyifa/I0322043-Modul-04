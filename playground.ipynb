{
  "cells": [
    {
      "attachments": {},
      "cell_type": "markdown",
      "metadata": {},
      "source": [
        "### Example:"
      ]
    },
    {
      "cell_type": "markdown",
      "metadata": {
        "id": "BCq0U8PajyGV"
      },
      "source": [
        "Dalam penggunaan pengkondisian, pyhton mensupport untuk penggunaan logika matematika: \n",
        "- Equals : a == b\n",
        "- Not Equals : a != b\n",
        "- Kurang dari : a < b \n",
        "dan sebagainya"
      ]
    },
    {
      "cell_type": "code",
      "execution_count": 5,
      "metadata": {
        "colab": {
          "base_uri": "https://localhost:8080/"
        },
        "id": "59lbFSrpkQf9",
        "outputId": "6481ba0b-8243-4232-8c86-d289c7aaa11e"
      },
      "outputs": [
        {
          "name": "stdout",
          "output_type": "stream",
          "text": [
            "b lebih besar dari a\n"
          ]
        }
      ],
      "source": [
        "a = 33\n",
        "b = 50\n",
        "if b > a :\n",
        "  print(\"b lebih besar dari a\")"
      ]
    },
    {
      "cell_type": "markdown",
      "metadata": {
        "id": "IW1ldvh6kgrW"
      },
      "source": [
        "untuk menjalankan rangkaian program lain jika kondisi tidak terpenuhi, gunakan Else"
      ]
    },
    {
      "cell_type": "code",
      "execution_count": 6,
      "metadata": {
        "id": "-P-i4GY-ksvH"
      },
      "outputs": [
        {
          "name": "stdout",
          "output_type": "stream",
          "text": [
            "b lebih besar dari a\n"
          ]
        }
      ],
      "source": [
        "a = 33\n",
        "b = 44\n",
        "if b < a :\n",
        "  print(\"b lebih kecil dari a\")\n",
        "else: #setelah else tidak perlu diberi syarat kondisi\n",
        "  print(\"b lebih besar dari a\")"
      ]
    },
    {
      "cell_type": "markdown",
      "metadata": {
        "id": "SX4u-2dgk-Yy"
      },
      "source": [
        "if dan else dapat digunakan jika hanya terdapat dua kemungkinan. untuk kondisi yang lebih dari dua kemungkinan gunakan Elif "
      ]
    },
    {
      "cell_type": "code",
      "execution_count": 7,
      "metadata": {
        "id": "si1zhdY6lKDD"
      },
      "outputs": [
        {
          "name": "stdout",
          "output_type": "stream",
          "text": [
            "a bernilai sama dengan b\n"
          ]
        }
      ],
      "source": [
        "a = 33\n",
        "b = 33\n",
        "if a > b :\n",
        "  print(\"a lebih besar dari b\")\n",
        " #elif merupakan singkatan dari else if\n",
        " #setelah elif, masih perlu ditambahkan syarat kondisi\n",
        "elif a == b :\n",
        "  print(\"a bernilai sama dengan b\")\n",
        "else:\n",
        "  print(\"a lebih kecil dari b\")"
      ]
    },
    {
      "cell_type": "markdown",
      "metadata": {
        "id": "30oEsy44ln7q"
      },
      "source": [
        "selain operator logika, operator perbandingan seperti AND OR dan NOT"
      ]
    },
    {
      "cell_type": "code",
      "execution_count": 8,
      "metadata": {
        "id": "qZzXSauAm0b6"
      },
      "outputs": [
        {
          "name": "stdout",
          "output_type": "stream",
          "text": [
            "Keduanya benar!\n"
          ]
        }
      ],
      "source": [
        "a = 20\n",
        "b = 3\n",
        "c = 50\n",
        "if a > b and c > a : #syarat penggunaan AND adalah kedua kondisi harus bernilai TRUE\n",
        "  print(\"Keduanya benar!\")"
      ]
    },
    {
      "cell_type": "code",
      "execution_count": 9,
      "metadata": {
        "id": "tUmml-26mf4e"
      },
      "outputs": [
        {
          "name": "stdout",
          "output_type": "stream",
          "text": [
            "Salah satu kondisi benar!\n"
          ]
        }
      ],
      "source": [
        "a = 20\n",
        "b = 3\n",
        "c = 50\n",
        "if a > b or c < a : #syarat penggunaan OR adalah Salah satu kondisi harus bernilai TRUE\n",
        "  print(\"Salah satu kondisi benar!\")"
      ]
    },
    {
      "cell_type": "code",
      "execution_count": 10,
      "metadata": {
        "id": "hYXsEcz0nP2c"
      },
      "outputs": [
        {
          "name": "stdout",
          "output_type": "stream",
          "text": [
            "B tidak lebih besar dari A\n"
          ]
        }
      ],
      "source": [
        "a = 20\n",
        "b = 3\n",
        "c = 50\n",
        "if not b > a : #NOT berarti menegasikan hasil\n",
        "  print(\"B tidak lebih besar dari A\")"
      ]
    },
    {
      "cell_type": "markdown",
      "metadata": {
        "id": "abYLk-gDn8UK"
      },
      "source": [
        "IF dalam IF\n",
        "pengkondisian memungkinkan untuk memiliki banyak cabang, termasuk kondisi setelah kondisi (if dalam if)"
      ]
    },
    {
      "cell_type": "code",
      "execution_count": 11,
      "metadata": {
        "id": "ebgPQzXqjQmA"
      },
      "outputs": [
        {
          "name": "stdout",
          "output_type": "stream",
          "text": [
            "User berumur diatas 10 tahun\n",
            "Tetapi user masih dibawah 20 tahun\n"
          ]
        }
      ],
      "source": [
        "umur = 19\n",
        "\n",
        "if umur > 10:\n",
        "  print(\"User berumur diatas 10 tahun\")\n",
        "  if umur > 20:\n",
        "    print(\"User berumur diatas 20 tahun\")\n",
        "  else:\n",
        "    print(\"Tetapi user masih dibawah 20 tahun\")"
      ]
    },
    {
      "attachments": {},
      "cell_type": "markdown",
      "metadata": {},
      "source": [
        "### Praktik:"
      ]
    },
    {
      "attachments": {},
      "cell_type": "markdown",
      "metadata": {},
      "source": [
        "1. Buatlah program pengkondisian yang meminta input dari user berupa umur dua orang, kemudian menghasilkan output berupa umur siapa yang lebih tua"
      ]
    },
    {
      "cell_type": "code",
      "execution_count": 1,
      "metadata": {},
      "outputs": [
        {
          "name": "stdout",
          "output_type": "stream",
          "text": [
            "umur fatihah lebih tua dari fatimah\n"
          ]
        }
      ],
      "source": [
        "# Kerjakan soal no 1 di sini\n",
        "fatihah=int(input(\"berapa umum fatihah?:\"))\n",
        "fatimah=int(input(\"berapa umum fatihah?:\"))\n",
        "\n",
        "if fatihah>fatimah:\n",
        "    print(\"umur fatihah lebih tua dari fatimah\")\n",
        "elif fatihah<fatimah:\n",
        "    print(\"umur fatihah lebih muda dari fatimah\")\n",
        "else:\n",
        "    print(\"umur fatihah sama dengan fatimah\")"
      ]
    },
    {
      "attachments": {},
      "cell_type": "markdown",
      "metadata": {},
      "source": [
        "2. Buatlah program kasir yang meminta input dari user berupa nominal belanja, selanjutnya program tersebut akan melakukan perhitungan diskon:\\\n",
        "    a. apabila nominal belanja lebih dari sama dengan 500000, maka akan mendapat diskon 25%<br>\n",
        "    b. apabila nominal belanja lebih dari sama dengan 300000, maka akan mendapat diskon 15%<br>\n",
        "    c. apabila nominal belanja lebih dari sama dengan 100000, maka akan mendapat diskon 5%<br>\n",
        "Selanjutnya program tersebut akan menghasilkan output total harga yang harus dibayarkan oleh user"
      ]
    },
    {
      "cell_type": "code",
      "execution_count": 3,
      "metadata": {},
      "outputs": [
        {
          "name": "stdout",
          "output_type": "stream",
          "text": [
            "nominal yang dibayar dengan diskon 25%: 450000.0\n"
          ]
        }
      ],
      "source": [
        "# Kerjakan soal no 2 di sini\n",
        "nominal_belanja=float(input(\"masukkan nominal belanja:\"))\n",
        "\n",
        "if nominal_belanja >= 500000:\n",
        "    a=75/100 * nominal_belanja\n",
        "    print(\"nominal yang dibayar dengan diskon 25%:\", a)\n",
        "elif nominal_belanja >= 300000:\n",
        "    b=85/100 * nominal_belanja\n",
        "    print(\"nominal yang dibayar dengan diskon 15%:\", b)\n",
        "elif nominal_belanja >= 100000:\n",
        "    c=95/100 * nominal_belanja\n",
        "    print(\"nominal yang dibayar dengan diskon 5%:\", c)\n",
        "else:\n",
        "    print(\"total yang dibayarkan tanpa diskon\")\n"
      ]
    }
  ],
  "metadata": {
    "colab": {
      "provenance": []
    },
    "kernelspec": {
      "display_name": "Python 3",
      "name": "python3"
    },
    "language_info": {
      "codemirror_mode": {
        "name": "ipython",
        "version": 3
      },
      "file_extension": ".py",
      "mimetype": "text/x-python",
      "name": "python",
      "nbconvert_exporter": "python",
      "pygments_lexer": "ipython3",
      "version": "3.10.8"
    }
  },
  "nbformat": 4,
  "nbformat_minor": 0
}
